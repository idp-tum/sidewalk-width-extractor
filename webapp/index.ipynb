{
 "cells": [
  {
   "cell_type": "code",
   "execution_count": 1,
   "metadata": {},
   "outputs": [
    {
     "ename": "",
     "evalue": "",
     "output_type": "error",
     "traceback": [
      "\u001b[1;31mCanceled future for execute_request message before replies were done"
     ]
    },
    {
     "ename": "",
     "evalue": "",
     "output_type": "error",
     "traceback": [
      "\u001b[1;31mThe Kernel crashed while executing code in the the current cell or a previous cell. Please review the code in the cell(s) to identify a possible cause of the failure. Click <a href='https://aka.ms/vscodeJupyterKernelCrash'>here</a> for more info. View Jupyter <a href='command:jupyter.viewOutput'>log</a> for further details."
     ]
    }
   ],
   "source": [
    "import json\n",
    "import os\n",
    "from argparse import ArgumentParser, Namespace\n",
    "from functools import reduce\n",
    "from glob import glob\n",
    "\n",
    "#import cv2\n",
    "import numpy as np\n",
    "import pandas as pd\n",
    "import torch\n",
    "import torchvision.transforms as T\n",
    "from torch.utils.data import DataLoader\n",
    "from torchvision.utils import draw_segmentation_masks\n",
    "\n",
    "from sidewalk_widths_extractor import Trainer, seed_all\n",
    "from sidewalk_widths_extractor.dataset import SatelliteDataset\n",
    "from sidewalk_widths_extractor.modules.seg import SegModule\n",
    "from sidewalk_widths_extractor.utilities import get_device\n",
    "from sidewalk_widths_extractor.utilities.io import mkdir"
   ]
  },
  {
   "cell_type": "code",
   "execution_count": null,
   "metadata": {},
   "outputs": [],
   "source": [
    "device = get_device()\n",
    "print(\"using\", device)"
   ]
  },
  {
   "cell_type": "code",
   "execution_count": null,
   "metadata": {},
   "outputs": [],
   "source": [
    "model_path = \"/content/drive/MyDrive/IDP/sidewalk-widths-extractor/logs/hp_d320_resume/19-09-2022 13-46-10 hp_d80_resume 23/checkpoints/best_network.pth.tar\"\n",
    "settings_path = \"/content/drive/MyDrive/IDP/sidewalk-widths-extractor/logs/hp_d320_resume/19-09-2022 13-46-10 hp_d80_resume 23/settings.json\""
   ]
  },
  {
   "cell_type": "code",
   "execution_count": null,
   "metadata": {},
   "outputs": [],
   "source": [
    "settings = None\n",
    "with open(settings_path) as file:\n",
    "  settings = json.load(file)\n",
    "\n",
    "module = SegModule(\n",
    "        settings[\"module\"][\"network\"][\"id\"],\n",
    "        settings[\"module\"][\"network\"][\"params\"],\n",
    "        settings[\"module\"][\"optimizer\"][\"id\"],\n",
    "        settings[\"module\"][\"optimizer\"][\"params\"],\n",
    "        settings[\"module\"][\"criterion\"][\"id\"],\n",
    "        settings[\"module\"][\"criterion\"][\"params\"],\n",
    "        device=device,\n",
    "        save_network_checkpoint=False,\n",
    "        save_optimizer_checkpoint=False,\n",
    "    )\n",
    "\n",
    "\n",
    "module.load({\"network\": model_path})"
   ]
  },
  {
   "cell_type": "code",
   "execution_count": null,
   "metadata": {},
   "outputs": [],
   "source": [
    "tensor_transform = T.ToTensor()\n",
    "image_transform = T.ToPILImage()"
   ]
  },
  {
   "cell_type": "code",
   "execution_count": null,
   "metadata": {},
   "outputs": [],
   "source": [
    "def segment(img):\n",
    "  image = tensor_transform(img)\n",
    "  pred = module.infer(image).detach().cpu()\n",
    "  \n",
    "  image = (image * 255).type(torch.uint8)\n",
    "  pred = pred.type(torch.bool)\n",
    "\n",
    "  seg = draw_segmentation_masks(image, pred, alpha=0.3, colors=\"blue\")\n",
    "\n",
    "  seg = image_transform(seg)\n",
    "\n",
    "  return seg"
   ]
  },
  {
   "cell_type": "code",
   "execution_count": null,
   "metadata": {},
   "outputs": [],
   "source": [
    "demo = gr.Interface(segment, gr.Image(shape=(256, 256)), \"image\")\n",
    "demo.launch()"
   ]
  },
  {
   "cell_type": "code",
   "execution_count": null,
   "metadata": {},
   "outputs": [],
   "source": []
  }
 ],
 "metadata": {
  "kernelspec": {
   "display_name": "Python 3.10.4 ('idp')",
   "language": "python",
   "name": "python3"
  },
  "language_info": {
   "codemirror_mode": {
    "name": "ipython",
    "version": 3
   },
   "file_extension": ".py",
   "mimetype": "text/x-python",
   "name": "python",
   "nbconvert_exporter": "python",
   "pygments_lexer": "ipython3",
   "version": "3.10.4"
  },
  "orig_nbformat": 4,
  "vscode": {
   "interpreter": {
    "hash": "cae8b21a481a26cc1478fb89987a33f90592f47e4b68881ed09c790311eff9d5"
   }
  }
 },
 "nbformat": 4,
 "nbformat_minor": 2
}
