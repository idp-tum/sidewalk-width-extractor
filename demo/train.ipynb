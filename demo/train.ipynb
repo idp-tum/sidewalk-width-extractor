{
 "cells": [
  {
   "cell_type": "code",
   "execution_count": 1,
   "metadata": {},
   "outputs": [],
   "source": [
    "%load_ext autoreload\n",
    "%autoreload 2\n",
    "\n",
    "import os\n",
    "\n",
    "os.environ['KMP_DUPLICATE_LIB_OK']='True'\n",
    "\n",
    "import albumentations as A\n",
    "import torch\n",
    "from torch.utils.data import DataLoader\n",
    "\n",
    "from sidewalk_widths_extractor import SatelliteDataset, SegModule, Trainer, seed_all\n",
    "from sidewalk_widths_extractor.utilities import get_device"
   ]
  },
  {
   "cell_type": "markdown",
   "metadata": {},
   "source": [
    "# Parameters"
   ]
  },
  {
   "cell_type": "code",
   "execution_count": 2,
   "metadata": {},
   "outputs": [
    {
     "name": "stdout",
     "output_type": "stream",
     "text": [
      "cuda:0\n"
     ]
    }
   ],
   "source": [
    "TRAIN_BATCH_SIZE = 16\n",
    "VAL_BATCH_SIZE = 4\n",
    "NUM_WORKERS = 0\n",
    "PERSISTENT_WORKERS = False\n",
    "PIN_MEMORY = False\n",
    "SPLIT_RATIO = 0.8\n",
    "RANDOM_SEED = 42\n",
    "\n",
    "network_parms = {\n",
    "    \"encoder_name\": \"resnet34\",\n",
    "    \"encoder_weights\": \"imagenet\",\n",
    "    \"in_channels\": 3,\n",
    "    \"classes\": 2,\n",
    "}\n",
    "optimizer_params = {\"lr\": 2e-4, \"weight_decay\": 1e-4}\n",
    "\n",
    "\n",
    "device = get_device()\n",
    "# device = \"cpu\"\n",
    "print(device)"
   ]
  },
  {
   "cell_type": "markdown",
   "metadata": {},
   "source": [
    "# Setup"
   ]
  },
  {
   "cell_type": "code",
   "execution_count": 3,
   "metadata": {},
   "outputs": [],
   "source": [
    "seed_all(42)\n",
    "\n",
    "module = SegModule(\n",
    "    \"unet\", network_parms, \"adam\", optimizer_params, \"wce\", {\"weight\": [0.1, 1.0]}, device\n",
    ")\n",
    "\n",
    "transform = A.Compose(\n",
    "    [\n",
    "        A.HorizontalFlip(p=0.2),\n",
    "        A.VerticalFlip(p=0.2),\n",
    "        A.RandomBrightnessContrast(p=0.2, brightness_limit=0.2, contrast_limit=0.2),\n",
    "    ]\n",
    ")\n",
    "\n",
    "train_dataset, val_dataset = SatelliteDataset.from_split(\n",
    "    \"data/images/\",\n",
    "    \"data/masks/\",\n",
    "    split_ratio=SPLIT_RATIO,\n",
    "    train_transform=transform,\n",
    "    random_seed=RANDOM_SEED,\n",
    ")\n",
    "\n",
    "train_dataloader = DataLoader(\n",
    "    train_dataset,\n",
    "    batch_size=TRAIN_BATCH_SIZE,\n",
    "    shuffle=True,\n",
    "    pin_memory=PIN_MEMORY,\n",
    "    num_workers=NUM_WORKERS,\n",
    "    persistent_workers=PERSISTENT_WORKERS,\n",
    ")\n",
    "val_dataloader = DataLoader(\n",
    "    val_dataset,\n",
    "    batch_size=VAL_BATCH_SIZE,\n",
    "    shuffle=False,\n",
    "    pin_memory=PIN_MEMORY,\n",
    "    num_workers=NUM_WORKERS,\n",
    "    persistent_workers=PERSISTENT_WORKERS,\n",
    ")"
   ]
  },
  {
   "cell_type": "markdown",
   "metadata": {},
   "source": [
    "# Train"
   ]
  },
  {
   "cell_type": "code",
   "execution_count": 4,
   "metadata": {},
   "outputs": [
    {
     "name": "stderr",
     "output_type": "stream",
     "text": [
      "[1] augs - Training: 100% 1/1 [00:07<00:00,  7.92s/it]\n",
      "[1] augs - Validating: 100% 1/1 [00:00<00:00,  2.72it/s]\n",
      "[2] augs - Training: 100% 1/1 [00:00<00:00,  1.13it/s]\n",
      "[2] augs - Validating: 100% 1/1 [00:00<00:00,  2.16it/s]\n",
      "[3] augs - Training: 100% 1/1 [00:00<00:00,  1.24it/s]\n",
      "[3] augs - Validating: 100% 1/1 [00:00<00:00,  2.06it/s]\n",
      "[4] augs - Training: 100% 1/1 [00:00<00:00,  1.16it/s]\n",
      "[4] augs - Validating: 100% 1/1 [00:00<00:00,  2.01it/s]\n",
      "[5] augs - Training: 100% 1/1 [00:00<00:00,  1.29it/s]\n",
      "[5] augs - Validating: 100% 1/1 [00:00<00:00,  2.01it/s]\n",
      "[6] augs - Training: 100% 1/1 [00:00<00:00,  1.33it/s]\n",
      "[6] augs - Validating: 100% 1/1 [00:00<00:00,  2.04it/s]\n",
      "[7] augs - Training: 100% 1/1 [00:00<00:00,  1.46it/s]\n",
      "[7] augs - Validating: 100% 1/1 [00:00<00:00,  1.87it/s]\n",
      "[8] augs - Training: 100% 1/1 [00:00<00:00,  1.29it/s]\n",
      "[8] augs - Validating: 100% 1/1 [00:00<00:00,  2.08it/s]\n",
      "[9] augs - Training: 100% 1/1 [00:00<00:00,  1.35it/s]\n",
      "[9] augs - Validating: 100% 1/1 [00:00<00:00,  2.04it/s]\n",
      "[10] augs - Training: 100% 1/1 [00:00<00:00,  1.56it/s]\n",
      "[10] augs - Validating: 100% 1/1 [00:00<00:00,  2.32it/s]\n",
      "[11] augs - Training: 100% 1/1 [00:00<00:00,  1.08it/s]\n",
      "[11] augs - Validating: 100% 1/1 [00:00<00:00,  2.34it/s]\n",
      "[12] augs - Training: 100% 1/1 [00:00<00:00,  1.18it/s]\n",
      "[12] augs - Validating: 100% 1/1 [00:00<00:00,  2.53it/s]\n",
      "[13] augs - Training: 100% 1/1 [00:00<00:00,  1.12it/s]\n",
      "[13] augs - Validating: 100% 1/1 [00:00<00:00,  2.11it/s]\n",
      "[14] augs - Training: 100% 1/1 [00:00<00:00,  1.25it/s]\n",
      "[14] augs - Validating: 100% 1/1 [00:00<00:00,  2.67it/s]\n",
      "[15] augs - Training: 100% 1/1 [00:00<00:00,  1.17it/s]\n",
      "[15] augs - Validating: 100% 1/1 [00:00<00:00,  2.20it/s]\n",
      "[16] augs - Training: 100% 1/1 [00:00<00:00,  1.25it/s]\n",
      "[16] augs - Validating: 100% 1/1 [00:00<00:00,  1.88it/s]\n",
      "[17] augs - Training: 100% 1/1 [00:00<00:00,  1.18it/s]\n",
      "[17] augs - Validating: 100% 1/1 [00:00<00:00,  2.04it/s]\n",
      "[18] augs - Training: 100% 1/1 [00:00<00:00,  1.09it/s]\n",
      "[18] augs - Validating: 100% 1/1 [00:00<00:00,  2.47it/s]\n",
      "[19] augs - Training: 100% 1/1 [00:00<00:00,  1.31it/s]\n",
      "[19] augs - Validating: 100% 1/1 [00:00<00:00,  2.23it/s]\n",
      "[20] augs - Training: 100% 1/1 [00:00<00:00,  1.18it/s]\n",
      "[20] augs - Validating: 100% 1/1 [00:00<00:00,  2.06it/s]\n",
      "[21] augs - Training: 100% 1/1 [00:00<00:00,  1.37it/s]\n",
      "[21] augs - Validating: 100% 1/1 [00:00<00:00,  2.02it/s]\n",
      "[22] augs - Training: 100% 1/1 [00:00<00:00,  1.42it/s]\n",
      "[22] augs - Validating: 100% 1/1 [00:00<00:00,  2.25it/s]\n",
      "[23] augs - Training: 100% 1/1 [00:00<00:00,  1.12it/s]\n",
      "[23] augs - Validating: 100% 1/1 [00:00<00:00,  1.90it/s]\n",
      "[24] augs - Training: 100% 1/1 [00:00<00:00,  1.24it/s]\n",
      "[24] augs - Validating: 100% 1/1 [00:00<00:00,  2.94it/s]\n",
      "[25] augs - Training: 100% 1/1 [00:00<00:00,  1.50it/s]\n",
      "[25] augs - Validating: 100% 1/1 [00:00<00:00,  2.25it/s]\n",
      "[26] augs - Training: 100% 1/1 [00:00<00:00,  1.35it/s]\n",
      "[26] augs - Validating: 100% 1/1 [00:00<00:00,  2.17it/s]\n",
      "[27] augs - Training: 100% 1/1 [00:00<00:00,  1.38it/s]\n",
      "[27] augs - Validating: 100% 1/1 [00:00<00:00,  2.43it/s]\n",
      "[28] augs - Training: 100% 1/1 [00:00<00:00,  1.10it/s]\n",
      "[28] augs - Validating: 100% 1/1 [00:00<00:00,  2.11it/s]\n",
      "[29] augs - Training: 100% 1/1 [00:00<00:00,  1.44it/s]\n",
      "[29] augs - Validating: 100% 1/1 [00:00<00:00,  1.63it/s]\n",
      "[30] augs - Training: 100% 1/1 [00:00<00:00,  1.27it/s]\n",
      "[30] augs - Validating: 100% 1/1 [00:00<00:00,  2.17it/s]\n",
      "[31] augs - Training: 100% 1/1 [00:00<00:00,  1.37it/s]\n",
      "[31] augs - Validating: 100% 1/1 [00:00<00:00,  2.50it/s]\n",
      "[32] augs - Training: 100% 1/1 [00:00<00:00,  1.18it/s]\n",
      "[32] augs - Validating: 100% 1/1 [00:00<00:00,  2.08it/s]\n",
      "[33] augs - Training: 100% 1/1 [00:00<00:00,  1.15it/s]\n",
      "[33] augs - Validating: 100% 1/1 [00:00<00:00,  1.98it/s]\n",
      "[34] augs - Training: 100% 1/1 [00:00<00:00,  1.21it/s]\n",
      "[34] augs - Validating: 100% 1/1 [00:00<00:00,  1.86it/s]\n",
      "[35] augs - Training: 100% 1/1 [00:00<00:00,  1.21it/s]\n",
      "[35] augs - Validating: 100% 1/1 [00:00<00:00,  2.48it/s]\n",
      "[36] augs - Training: 100% 1/1 [00:00<00:00,  1.19it/s]\n",
      "[36] augs - Validating: 100% 1/1 [00:00<00:00,  2.32it/s]\n",
      "[37] augs - Training: 100% 1/1 [00:00<00:00,  1.17it/s]\n",
      "[37] augs - Validating: 100% 1/1 [00:00<00:00,  2.07it/s]\n",
      "[38] augs - Training: 100% 1/1 [00:00<00:00,  1.51it/s]\n",
      "[38] augs - Validating: 100% 1/1 [00:00<00:00,  2.22it/s]\n",
      "[39] augs - Training: 100% 1/1 [00:00<00:00,  1.67it/s]\n",
      "[39] augs - Validating: 100% 1/1 [00:00<00:00,  2.55it/s]\n",
      "[40] augs - Training: 100% 1/1 [00:00<00:00,  1.41it/s]\n",
      "[40] augs - Validating: 100% 1/1 [00:00<00:00,  2.19it/s]\n",
      "[41] augs - Training: 100% 1/1 [00:00<00:00,  1.62it/s]\n",
      "[41] augs - Validating: 100% 1/1 [00:00<00:00,  1.68it/s]\n",
      "[42] augs - Training: 100% 1/1 [00:00<00:00,  1.40it/s]\n",
      "[42] augs - Validating: 100% 1/1 [00:00<00:00,  2.07it/s]\n",
      "[43] augs - Training: 100% 1/1 [00:00<00:00,  1.23it/s]\n",
      "[43] augs - Validating: 100% 1/1 [00:00<00:00,  2.59it/s]\n",
      "[44] augs - Training: 100% 1/1 [00:00<00:00,  1.17it/s]\n",
      "[44] augs - Validating: 100% 1/1 [00:00<00:00,  2.70it/s]\n",
      "[45] augs - Training: 100% 1/1 [00:00<00:00,  1.24it/s]\n",
      "[45] augs - Validating: 100% 1/1 [00:00<00:00,  2.13it/s]\n",
      "[46] augs - Training: 100% 1/1 [00:00<00:00,  1.03it/s]\n",
      "[46] augs - Validating: 100% 1/1 [00:00<00:00,  2.26it/s]\n",
      "[47] augs - Training: 100% 1/1 [00:00<00:00,  1.21it/s]\n",
      "[47] augs - Validating: 100% 1/1 [00:00<00:00,  2.85it/s]\n",
      "[48] augs - Training: 100% 1/1 [00:00<00:00,  1.27it/s]\n",
      "[48] augs - Validating: 100% 1/1 [00:00<00:00,  2.08it/s]\n",
      "[49] augs - Training: 100% 1/1 [00:00<00:00,  1.36it/s]\n",
      "[49] augs - Validating: 100% 1/1 [00:00<00:00,  2.26it/s]\n",
      "[50] augs - Training: 100% 1/1 [00:00<00:00,  1.34it/s]\n",
      "[50] augs - Validating: 100% 1/1 [00:00<00:00,  2.54it/s]\n"
     ]
    }
   ],
   "source": [
    "trainer = Trainer(log_comment=\"augs\")\n",
    "trainer.fit(\n",
    "    module=module,\n",
    "    dataloader=train_dataloader,\n",
    "    validate_dataloader=val_dataloader,\n",
    "    max_epochs=50,\n",
    "    # save_every_n_epoch=5,\n",
    "    save_settings=True,\n",
    "    save_scalars=True,\n",
    "    save_figures=False,\n",
    ")"
   ]
  }
 ],
 "metadata": {
  "kernelspec": {
   "display_name": "Python 3 (ipykernel)",
   "language": "python",
   "name": "python3"
  },
  "language_info": {
   "codemirror_mode": {
    "name": "ipython",
    "version": 3
   },
   "file_extension": ".py",
   "mimetype": "text/x-python",
   "name": "python",
   "nbconvert_exporter": "python",
   "pygments_lexer": "ipython3",
   "version": "3.9.12"
  },
  "vscode": {
   "interpreter": {
    "hash": "a6a66adaf5fb32f581cec0ac67396c0be9b6783f51fd9dfef301bb5ed0758428"
   }
  }
 },
 "nbformat": 4,
 "nbformat_minor": 2
}
